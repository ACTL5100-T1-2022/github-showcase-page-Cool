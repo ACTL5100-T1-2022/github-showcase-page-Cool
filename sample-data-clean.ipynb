{
 "cells": [
  {
   "cell_type": "markdown",
   "id": "dbc6445c",
   "metadata": {},
   "source": [
    "# This is a sample code in jupyter notebook to clean data."
   ]
  },
  {
   "cell_type": "markdown",
   "id": "ba3eb91e",
   "metadata": {},
   "source": [
    "Import library"
   ]
  },
  {
   "cell_type": "code",
   "execution_count": 1,
   "id": "cd3b6dfc",
   "metadata": {},
   "outputs": [],
   "source": [
    "import pandas as pd\n",
    "import numpy as np\n",
    "from pathlib import Path"
   ]
  },
  {
   "cell_type": "markdown",
   "id": "63a676bc",
   "metadata": {},
   "source": [
    "Load Data"
   ]
  },
  {
   "cell_type": "code",
   "execution_count": 2,
   "id": "3437d456",
   "metadata": {},
   "outputs": [],
   "source": [
    "salary2020 = pd.read_csv(\"player_data_salaries_2020.csv\",encoding =\"unicode_escape\")"
   ]
  },
  {
   "cell_type": "code",
   "execution_count": 3,
   "id": "7ff936c0",
   "metadata": {},
   "outputs": [
    {
     "data": {
      "text/html": [
       "<div>\n",
       "<style scoped>\n",
       "    .dataframe tbody tr th:only-of-type {\n",
       "        vertical-align: middle;\n",
       "    }\n",
       "\n",
       "    .dataframe tbody tr th {\n",
       "        vertical-align: top;\n",
       "    }\n",
       "\n",
       "    .dataframe thead th {\n",
       "        text-align: right;\n",
       "    }\n",
       "</style>\n",
       "<table border=\"1\" class=\"dataframe\">\n",
       "  <thead>\n",
       "    <tr style=\"text-align: right;\">\n",
       "      <th></th>\n",
       "      <th>Player Name</th>\n",
       "      <th>League</th>\n",
       "      <th>Squad</th>\n",
       "      <th>Country</th>\n",
       "      <th>Position</th>\n",
       "      <th>Annualized Salary</th>\n",
       "    </tr>\n",
       "  </thead>\n",
       "  <tbody>\n",
       "    <tr>\n",
       "      <th>0</th>\n",
       "      <td>I. Winter</td>\n",
       "      <td>A</td>\n",
       "      <td>Fanatical Outlaws</td>\n",
       "      <td>Danan Seekeeling</td>\n",
       "      <td>DF</td>\n",
       "      <td>¶ 25,480,000</td>\n",
       "    </tr>\n",
       "    <tr>\n",
       "      <th>1</th>\n",
       "      <td>P. Nakubulwa</td>\n",
       "      <td>A</td>\n",
       "      <td>Fanatical Outlaws</td>\n",
       "      <td>Dosqaly</td>\n",
       "      <td>DF</td>\n",
       "      <td>¶ 9,950,000</td>\n",
       "    </tr>\n",
       "    <tr>\n",
       "      <th>2</th>\n",
       "      <td>M. Mahlangu</td>\n",
       "      <td>A</td>\n",
       "      <td>Fanatical Outlaws</td>\n",
       "      <td>Imaar Vircoand</td>\n",
       "      <td>DF</td>\n",
       "      <td>¶ 26,500,000</td>\n",
       "    </tr>\n",
       "    <tr>\n",
       "      <th>3</th>\n",
       "      <td>I. Huber</td>\n",
       "      <td>A</td>\n",
       "      <td>Fanatical Outlaws</td>\n",
       "      <td>Lenia Gerdanho</td>\n",
       "      <td>DF</td>\n",
       "      <td>¶ 25,530,000</td>\n",
       "    </tr>\n",
       "    <tr>\n",
       "      <th>4</th>\n",
       "      <td>A. Kobusingye</td>\n",
       "      <td>A</td>\n",
       "      <td>Fanatical Outlaws</td>\n",
       "      <td>People's Land of Maneau</td>\n",
       "      <td>DF</td>\n",
       "      <td>¶ 9,510,000</td>\n",
       "    </tr>\n",
       "  </tbody>\n",
       "</table>\n",
       "</div>"
      ],
      "text/plain": [
       "     Player Name League              Squad                  Country Position  \\\n",
       "0      I. Winter      A  Fanatical Outlaws         Danan Seekeeling       DF   \n",
       "1   P. Nakubulwa      A  Fanatical Outlaws                  Dosqaly       DF   \n",
       "2    M. Mahlangu      A  Fanatical Outlaws           Imaar Vircoand       DF   \n",
       "3       I. Huber      A  Fanatical Outlaws           Lenia Gerdanho       DF   \n",
       "4  A. Kobusingye      A  Fanatical Outlaws  People's Land of Maneau       DF   \n",
       "\n",
       "  Annualized Salary  \n",
       "0      ¶ 25,480,000  \n",
       "1       ¶ 9,950,000  \n",
       "2      ¶ 26,500,000  \n",
       "3      ¶ 25,530,000  \n",
       "4       ¶ 9,510,000  "
      ]
     },
     "execution_count": 3,
     "metadata": {},
     "output_type": "execute_result"
    }
   ],
   "source": [
    "salary2020.head()"
   ]
  },
  {
   "cell_type": "markdown",
   "id": "a53c4172",
   "metadata": {},
   "source": [
    "Clean Data"
   ]
  },
  {
   "cell_type": "code",
   "execution_count": 4,
   "id": "35015294",
   "metadata": {},
   "outputs": [],
   "source": [
    "salary2020[\"Annualized Salary\"] = salary2020[\"Annualized Salary\"].str.replace(\"¶\",\"\")\n",
    "salary2020[\"Annualized Salary\"] = salary2020[\"Annualized Salary\"].str.replace(\",\",\"\")\n",
    "salary2020[\"Annualized Salary\"] = salary2020[\"Annualized Salary\"].astype(\"float\")"
   ]
  },
  {
   "cell_type": "markdown",
   "id": "3fe24a47",
   "metadata": {},
   "source": [
    "Inspect mean salary by position"
   ]
  },
  {
   "cell_type": "code",
   "execution_count": 5,
   "id": "a5ac0665",
   "metadata": {},
   "outputs": [
    {
     "data": {
      "text/plain": [
       "Position\n",
       "DF      1.555847e+07\n",
       "DFFW    2.125923e+07\n",
       "DFMF    1.653200e+07\n",
       "FW      2.322566e+07\n",
       "FWDF    2.371917e+07\n",
       "FWMF    2.348311e+07\n",
       "GK      1.415039e+07\n",
       "MF      1.860210e+07\n",
       "MFDF    1.803155e+07\n",
       "MFFW    2.305344e+07\n",
       "Name: Annualized Salary, dtype: float64"
      ]
     },
     "execution_count": 5,
     "metadata": {},
     "output_type": "execute_result"
    }
   ],
   "source": [
    "salary2020_mean_position = salary2020[\"Annualized Salary\"].groupby(salary2020[\"Position\"]).mean()\n",
    "salary2020_mean_position\n"
   ]
  },
  {
   "cell_type": "markdown",
   "id": "47f70f49",
   "metadata": {},
   "source": [
    "You may also install matplotlib to make plots. "
   ]
  },
  {
   "cell_type": "code",
   "execution_count": null,
   "id": "be5c49ae",
   "metadata": {},
   "outputs": [],
   "source": []
  }
 ],
 "metadata": {
  "kernelspec": {
   "display_name": "Python 3 (ipykernel)",
   "language": "python",
   "name": "python3"
  },
  "language_info": {
   "codemirror_mode": {
    "name": "ipython",
    "version": 3
   },
   "file_extension": ".py",
   "mimetype": "text/x-python",
   "name": "python",
   "nbconvert_exporter": "python",
   "pygments_lexer": "ipython3",
   "version": "3.9.7"
  }
 },
 "nbformat": 4,
 "nbformat_minor": 5
}
